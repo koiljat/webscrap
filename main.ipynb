{
 "cells": [
  {
   "cell_type": "markdown",
   "id": "928ca8be",
   "metadata": {},
   "source": [
    "In this notebook, we will be attempting to webscrap Intern.sg, a job seeking portal for students."
   ]
  },
  {
   "cell_type": "code",
   "execution_count": null,
   "id": "c647c591",
   "metadata": {},
   "outputs": [],
   "source": [
    "import requests ## To get request from the webpage\n",
    "from bs4 import BeautifulSoup ##P arse the HTML data\n",
    "import csv ## Save the data in a csv \n",
    "import pandas as pd ## Help to transform the data to a suitable format after scraping\n",
    "import seaborn as sns ## Help to plot visualization\n",
    "import matplotlib.pyplot as plt"
   ]
  },
  {
   "cell_type": "code",
   "execution_count": null,
   "id": "63a3c851",
   "metadata": {},
   "outputs": [],
   "source": [
    "url = \"https://www.internsg.com/jobs/1/#isg-top\""
   ]
  },
  {
   "cell_type": "code",
   "execution_count": null,
   "id": "781d3641",
   "metadata": {},
   "outputs": [],
   "source": [
    "response = requests.get(url)\n",
    "response"
   ]
  },
  {
   "cell_type": "code",
   "execution_count": null,
   "id": "ae14ecb8",
   "metadata": {},
   "outputs": [],
   "source": [
    "soup = BeautifulSoup(response.content, \"html.parser\")\n",
    "soup.prettify()"
   ]
  },
  {
   "cell_type": "markdown",
   "id": "4021c2f2",
   "metadata": {},
   "source": [
    "We find that the information that we want are:\n",
    "Company Name, Role, Commitment Period, Location, Website and Date Posted\n",
    "There are found under the \"ast-col-lg-2\",\"ast-col-lg-1\" and \"ast-col-lg-3\" class tags."
   ]
  },
  {
   "cell_type": "code",
   "execution_count": null,
   "id": "660bd5e8",
   "metadata": {},
   "outputs": [],
   "source": [
    "csv_file = \"data.csv\"\n",
    "\n",
    "with open(csv_file, mode=\"w\", newline=\"\") as file:\n",
    "    writer = csv.writer(file)\n",
    "\n",
    "print(\"Empty CSV file created successfully.\")"
   ]
  },
  {
   "cell_type": "markdown",
   "id": "e2f3595c",
   "metadata": {},
   "source": [
    "Initializing an empty CSV to store the data."
   ]
  },
  {
   "cell_type": "code",
   "execution_count": null,
   "id": "8e138dac",
   "metadata": {},
   "outputs": [],
   "source": [
    "location_post_tag = soup.findAll(\"div\", class_=[\"ast-col-lg-2\",\"ast-col-lg-1\"])\n",
    "location_post_text = [x.text.strip() for x in location_post_tag][2:]\n",
    "\n",
    "company_role_period_div = soup.findAll(\"div\", class_=[\"ast-col-lg-3\"])\n",
    "company_role_period_text = [x.text.strip() for x in company_role_period_div][3:]\n",
    "\n",
    "web_type_div = [div.findAll(\"span\", class_=\"text-monospace\") for div in company_role_period_div]\n",
    "web_type_text = [x[0].text.strip() for x in web_type_div if x != []]"
   ]
  },
  {
   "cell_type": "markdown",
   "id": "59381c49",
   "metadata": {},
   "source": [
    "We will find the respective tags and strip the text to remove any unncessary spacing"
   ]
  },
  {
   "cell_type": "code",
   "execution_count": null,
   "id": "11f3ad70",
   "metadata": {},
   "outputs": [],
   "source": [
    "web_type_text"
   ]
  },
  {
   "cell_type": "markdown",
   "id": "66eb8645",
   "metadata": {},
   "source": [
    "We can see that current the data are stored in a organized list, with each index representing a specific type of information. Let's split them into their respective list (columns)"
   ]
  },
  {
   "cell_type": "code",
   "execution_count": null,
   "id": "f6b8addb",
   "metadata": {},
   "outputs": [],
   "source": [
    "location = location_post_text[::2]\n",
    "post_date = location_post_text[1::2]\n",
    "company = company_role_period_text[::3]\n",
    "role = company_role_period_text[1::3]\n",
    "period = company_role_period_text[2::3]\n",
    "web = web_type_text[::2]\n",
    "job_type = web_type_text[1::2]"
   ]
  },
  {
   "cell_type": "markdown",
   "id": "11343ea0",
   "metadata": {},
   "source": [
    "Now that we have all of the respective columns, we will convert them into a dataframe and save into our csv."
   ]
  },
  {
   "cell_type": "code",
   "execution_count": null,
   "id": "33bc1208",
   "metadata": {},
   "outputs": [],
   "source": [
    "df = pd.DataFrame({'Company Name': company,\n",
    "                       'Role': role,\n",
    "                       'Commitment Period': period,\n",
    "                      'Location': location,\n",
    "                       'Job Type': job_type,\n",
    "                       'Date Posted': post_date,\n",
    "                       'Website': web})\n",
    "\n",
    "df.to_csv(csv_file, index=False, header=True)"
   ]
  },
  {
   "cell_type": "markdown",
   "id": "1ab95db8",
   "metadata": {},
   "source": [
    "We have successfully scraped the first page of the website. Let's repeat the rest for subsequent pages."
   ]
  },
  {
   "cell_type": "code",
   "execution_count": null,
   "id": "f834218a",
   "metadata": {},
   "outputs": [],
   "source": [
    "for page in range(2, 121):\n",
    "    url = f\"https://www.internsg.com/jobs/{page}/#isg-top\"\n",
    "    response = requests.get(url)\n",
    "    \n",
    "    soup = BeautifulSoup(response.content, \"html.parser\")\n",
    "    \n",
    "    ##Obtaining the raw data\n",
    "    location_post_tag = soup.findAll(\"div\", class_=[\"ast-col-lg-2\",\"ast-col-lg-1\"])\n",
    "    location_post_text = [x.text.strip() for x in location_post_tag][2:]\n",
    "    company_role_period_div = soup.findAll(\"div\", class_=[\"ast-col-lg-3\"])\n",
    "    company_role_period_text = [x.text.strip() for x in company_role_period_div][3:]\n",
    "    web_type_div = [div.findAll(\"span\", class_=\"text-monospace\") for div in company_role_period_div]\n",
    "    web_type_text = [x[0].text.strip() for x in web_type_div if x != []]\n",
    "\n",
    "    ##Converting them to their columns.\n",
    "    location = location_post_text[::2]\n",
    "    post_date = location_post_text[1::2]\n",
    "    company = company_role_period_text[::3]\n",
    "    role = company_role_period_text[1::3]\n",
    "    period = company_role_period_text[2::3]\n",
    "    web = web_type_text[::2]\n",
    "    job_type = web_type_text[1::2]\n",
    "\n",
    "    ##Saving data\n",
    "    df = pd.DataFrame({'Company Name': company,\n",
    "                       'Role': role,\n",
    "                       'Commitment Period': period,\n",
    "                      'Location': location,\n",
    "                       'Job Type': job_type,\n",
    "                       'Date Posted': post_date,\n",
    "                       'Website': web})\n",
    "    \n",
    "    df_existing = pd.read_csv(csv_file)\n",
    "    df_combined = pd.concat([df_existing, df])\n",
    "    df_combined.to_csv(csv_file, index=False)\n",
    "\n",
    "    print(f\"CSV file saved successfully for page {page}.\")"
   ]
  },
  {
   "cell_type": "markdown",
   "id": "4b2a88de",
   "metadata": {},
   "source": [
    "Now let us look at our data"
   ]
  },
  {
   "cell_type": "code",
   "execution_count": null,
   "id": "dd1c6e1f",
   "metadata": {},
   "outputs": [],
   "source": [
    "intern_df = pd.read_csv('data.csv')\n",
    "intern_df"
   ]
  },
  {
   "cell_type": "markdown",
   "id": "2cc07e3c",
   "metadata": {},
   "source": [
    "We see that some of the columns are not very well formatted. I will now clean up the data by removing the `website` from the `company name` and `job type` from `commitment period` Additionally, let's add an additional column to indicate WFH availability."
   ]
  },
  {
   "cell_type": "code",
   "execution_count": null,
   "id": "5918e9da",
   "metadata": {},
   "outputs": [],
   "source": [
    "intern_df['Company Name'] = intern_df.apply(lambda row: row['Company Name'].split(row['Website'])[0], axis=1)\n",
    "intern_df['Company Name'] = intern_df.apply(lambda row: row['Company Name'].split(' Pte Ltd')[0], axis=1)    \n",
    "intern_df['Commitment Period'] = intern_df.apply(lambda row: row['Commitment Period'].split(row['Job Type'])[0], axis=1)\n",
    "intern_df['Work From Home'] = intern_df.apply(lambda row: True if (row['Location'].find('Work from Home') != -1) else False, axis=1)\n",
    "intern_df['Location'] = intern_df.apply(lambda row: row['Location'].split('Work from Home')[0], axis=1)"
   ]
  },
  {
   "cell_type": "code",
   "execution_count": null,
   "id": "870feec7",
   "metadata": {},
   "outputs": [],
   "source": [
    "intern_df['Country'] = intern_df.apply(lambda row: row['Location'].split(',')[-1], axis=1)\n",
    "intern_df['Location'] = intern_df.apply(lambda row: row['Location'].split(',')[0] if len(row['Location'].split(',')) > 1 else None, axis=1)"
   ]
  },
  {
   "cell_type": "code",
   "execution_count": null,
   "id": "2f3d95f9",
   "metadata": {},
   "outputs": [],
   "source": [
    "intern_df"
   ]
  },
  {
   "cell_type": "code",
   "execution_count": null,
   "id": "ea44e1f2",
   "metadata": {},
   "outputs": [],
   "source": [
    "intern_df.info()"
   ]
  },
  {
   "cell_type": "markdown",
   "id": "d3f0fb74",
   "metadata": {},
   "source": [
    "Once we have format our data, we can now begin to explore our data"
   ]
  },
  {
   "cell_type": "code",
   "execution_count": null,
   "id": "d36be6ac",
   "metadata": {},
   "outputs": [],
   "source": [
    "company_counts = intern_df.groupby('Company Name')['Company Name'].count()\n",
    "top_10_counts = company_counts.sort_values(ascending=False).head(10)\n",
    "top_10_counts"
   ]
  },
  {
   "cell_type": "code",
   "execution_count": null,
   "id": "5ff3454c",
   "metadata": {},
   "outputs": [],
   "source": [
    "plt.bar(top_10_counts.index, top_10_counts.values, color='darkblue')\n",
    "plt.xlabel('Company Name')\n",
    "plt.ylabel('Count')\n",
    "plt.title('Top 10 Companies by Count')\n",
    "plt.xticks(rotation=90)\n",
    "plt.xticks(fontsize=8)\n",
    "plt.figure(figsize=(12, 8))  # Adjust width and height as needed\n",
    "plt.show()"
   ]
  },
  {
   "cell_type": "markdown",
   "id": "329ffed0",
   "metadata": {},
   "source": [
    "Unsurprisingly, the most number of job posting made was by SnapHunt, a recruitment agency. Now, let's look at what are the popular roles that companies are looking for."
   ]
  },
  {
   "cell_type": "code",
   "execution_count": null,
   "id": "dd459b3b",
   "metadata": {},
   "outputs": [],
   "source": [
    "role_counts = intern_df.groupby('Role')['Role'].count()\n",
    "top_10_role_counts = role_counts.sort_values(ascending=False).head(10)\n",
    "top_10_role_counts"
   ]
  },
  {
   "cell_type": "markdown",
   "id": "eee16db4",
   "metadata": {},
   "source": [
    "In this example, we see that there are special characters used by the job poster, such as emoji. Let's remove these to make the results look cleaner."
   ]
  },
  {
   "cell_type": "code",
   "execution_count": null,
   "id": "589519f7",
   "metadata": {},
   "outputs": [],
   "source": [
    "import re\n",
    "\n",
    "intern_df['Role'] = intern_df.apply(lambda row: re.sub(r'[^\\w\\s]', '', row[1]).strip(), axis=1)\n",
    "intern_df"
   ]
  },
  {
   "cell_type": "code",
   "execution_count": null,
   "id": "58fffb30",
   "metadata": {},
   "outputs": [],
   "source": [
    "role_counts = intern_df.groupby('Role')['Role'].count()\n",
    "top_10_role_counts = role_counts.sort_values(ascending=False).head(10)\n",
    "top_10_role_counts"
   ]
  },
  {
   "cell_type": "code",
   "execution_count": null,
   "id": "c5b79cc3",
   "metadata": {},
   "outputs": [],
   "source": [
    "plt.bar(top_10_role_counts.index, top_10_role_counts.values, color='darkred')\n",
    "plt.xlabel('Role')\n",
    "plt.ylabel('Count')\n",
    "plt.title('Top 10 Role by Count')\n",
    "plt.xticks(rotation=90)\n",
    "plt.xticks(fontsize=8)\n",
    "plt.figure(figsize=(12, 8))  # Adjust width and height as needed\n",
    "plt.show()"
   ]
  },
  {
   "cell_type": "markdown",
   "id": "13f9d59b",
   "metadata": {},
   "source": [
    "It seems that roles such as Marketing Intern, Financial Service Intern, Assistant Project Manager and Events Account Servicing Exectutive Intern Advertising are very popular. However, this may be due to the promoted feature of intern.sg, which promotes certain jobs at a fee."
   ]
  },
  {
   "cell_type": "code",
   "execution_count": null,
   "id": "607eb9ad",
   "metadata": {},
   "outputs": [],
   "source": [
    "wfh_count = intern_df['Work From Home'].mean()\n",
    "wio_count = 1 - wfh_count\n",
    "sizes = [wfh_count, wio_count]\n",
    "labels = ['Work From Home', 'Work In Office']\n",
    "plt.pie(sizes, labels=labels, autopct='%1.1f%%', colors=['lightgreen','lightpink'])\n",
    "plt.axis('equal')\n",
    "plt.title('WFH/WIO Distribution')\n",
    "plt.show()\n"
   ]
  },
  {
   "cell_type": "code",
   "execution_count": 220,
   "id": "0117f2ca",
   "metadata": {},
   "outputs": [
    {
     "name": "stderr",
     "output_type": "stream",
     "text": [
      "/var/folders/8d/5rvptlnd5j9d3zl2fchct6v00000gn/T/ipykernel_65769/3409146503.py:2: SettingWithCopyWarning: \n",
      "A value is trying to be set on a copy of a slice from a DataFrame.\n",
      "Try using .loc[row_indexer,col_indexer] = value instead\n",
      "\n",
      "See the caveats in the documentation: https://pandas.pydata.org/pandas-docs/stable/user_guide/indexing.html#returning-a-view-versus-a-copy\n",
      "  filtered_df['Date Posted'] = pd.to_datetime(filtered_df['Date Posted'] + ' ' + str(2023), format='%d %b %Y')\n"
     ]
    },
    {
     "data": {
      "text/plain": [
       "Date Posted\n",
       "2023-04-28     29\n",
       "2023-04-29      2\n",
       "2023-04-30      5\n",
       "2023-05-02     55\n",
       "2023-05-03     57\n",
       "2023-05-04     32\n",
       "2023-05-05     46\n",
       "2023-05-06      4\n",
       "2023-05-08     61\n",
       "2023-05-09     38\n",
       "2023-05-10     50\n",
       "2023-05-11     37\n",
       "2023-05-12     25\n",
       "2023-05-13     20\n",
       "2023-05-15     35\n",
       "2023-05-16     28\n",
       "2023-05-17     43\n",
       "2023-05-18     49\n",
       "2023-05-19     31\n",
       "2023-05-21     24\n",
       "2023-05-22     43\n",
       "2023-05-23     29\n",
       "2023-05-24     52\n",
       "2023-05-25     61\n",
       "2023-05-26     24\n",
       "2023-05-27      4\n",
       "2023-05-29     59\n",
       "2023-05-30     48\n",
       "2023-05-31     44\n",
       "2023-06-01     29\n",
       "2023-06-02     12\n",
       "2023-06-04     15\n",
       "2023-06-05     61\n",
       "2023-06-06     57\n",
       "2023-06-07     30\n",
       "2023-06-08     55\n",
       "2023-06-09     40\n",
       "2023-06-10      2\n",
       "2023-06-11      7\n",
       "2023-06-12     42\n",
       "2023-06-13     43\n",
       "2023-06-14    199\n",
       "2023-06-15     39\n",
       "2023-06-16     59\n",
       "2023-06-17     10\n",
       "2023-06-18      3\n",
       "2023-06-19     24\n",
       "2023-06-20     31\n",
       "2023-06-21     64\n",
       "2023-06-22    128\n",
       "2023-06-23     44\n",
       "2023-06-24     11\n",
       "2023-06-25      5\n",
       "2023-06-26     43\n",
       "2023-06-27     33\n",
       "Name: Date Posted, dtype: int64"
      ]
     },
     "execution_count": 220,
     "metadata": {},
     "output_type": "execute_result"
    }
   ],
   "source": [
    "filtered_df = intern_df[intern_df['Date Posted'] != 'Closed']\n",
    "filtered_df['Date Posted'] = pd.to_datetime(filtered_df['Date Posted'] + ' ' + str(2023), format='%d %b %Y')\n",
    "posting_over_time = filtered_df.groupby(\"Date Posted\")['Date Posted'].count()\n",
    "posting_over_time"
   ]
  },
  {
   "cell_type": "code",
   "execution_count": 266,
   "id": "645895af",
   "metadata": {},
   "outputs": [
    {
     "data": {
      "text/plain": [
       "(array([19478., 19485., 19492., 19499., 19509., 19516., 19523., 19530.]),\n",
       " [Text(0, 0, ''),\n",
       "  Text(0, 0, ''),\n",
       "  Text(0, 0, ''),\n",
       "  Text(0, 0, ''),\n",
       "  Text(0, 0, ''),\n",
       "  Text(0, 0, ''),\n",
       "  Text(0, 0, ''),\n",
       "  Text(0, 0, '')])"
      ]
     },
     "execution_count": 266,
     "metadata": {},
     "output_type": "execute_result"
    },
    {
     "data": {
      "image/png": "[encoded data removed]",
      "text/plain": [
       "<Figure size 640x480 with 1 Axes>"
      ]
     },
     "metadata": {},
     "output_type": "display_data"
    }
   ],
   "source": [
    "plt.plot(posting_over_time.index, posting_over_time.values, color='grey')\n",
    "plt.xlabel('Date Posted')\n",
    "plt.ylabel('Count')\n",
    "plt.title('Count of Job Postings Over Time')\n",
    "plt.xticks(rotation=90)\n",
    "plt.xticks(fontsize=5)\n"
   ]
  },
  {
   "cell_type": "markdown",
   "id": "7a95a36c",
   "metadata": {},
   "source": [
    "The data look like there are some seasonality to it, with some extreme anomalies. I suspect that the job posting experience a sharp drop when it is a weekend and rises when the work week begins. Let's check if I am correct."
   ]
  },
  {
   "cell_type": "code",
   "execution_count": 265,
   "id": "bbfd0e61",
   "metadata": {},
   "outputs": [
    {
     "data": {
      "image/png": "[encoded data removed]",
      "text/plain": [
       "<Figure size 640x480 with 1 Axes>"
      ]
     },
     "metadata": {},
     "output_type": "display_data"
    }
   ],
   "source": [
    "from datetime import datetime\n",
    "\n",
    "days_of_week = []\n",
    "for date_string in posting_over_time.index:\n",
    "    day_of_week = date_string.strftime('%A')\n",
    "    days_of_week.append(day_of_week)\n",
    "days_of_week\n",
    "date_day = list(zip(posting_over_time.index, days_of_week, posting_over_time.values))\n",
    "\n",
    "plt.plot(posting_over_time.index, posting_over_time.values, color='grey')\n",
    "\n",
    "for date, day, count in date_day:\n",
    "    if day == 'Sunday':\n",
    "        plt.annotate('Saturday',xy=(datetime.strptime(str(date.date()), \"%Y-%m-%d\"),count), \n",
    "            arrowprops=dict(arrowstyle='->',connectionstyle='arc3,rad=-.2'),\n",
    "            fontsize=8)\n",
    "\n",
    "plt.xlabel('Date Posted')\n",
    "plt.ylabel('Count')\n",
    "plt.title('Count of Job Postings Over Time')\n",
    "plt.xticks(rotation=90)\n",
    "plt.xticks(fontsize=5)\n",
    "plt.show()"
   ]
  },
  {
   "cell_type": "markdown",
   "id": "e789efff",
   "metadata": {},
   "source": [
    "\n",
    "As can be seen with the annotation, job posting experience a dip on Saturday."
   ]
  }
 ],
 "metadata": {
  "kernelspec": {
   "display_name": "Python 3.9.13 ('base')",
   "language": "python",
   "name": "python3"
  },
  "language_info": {
   "codemirror_mode": {
    "name": "ipython",
    "version": 3
   },
   "file_extension": ".py",
   "mimetype": "text/x-python",
   "name": "python",
   "nbconvert_exporter": "python",
   "pygments_lexer": "ipython3",
   "version": "3.9.13"
  },
  "vscode": {
   "interpreter": {
    "hash": "e8cc7a8fa4b0e731e540f01b69abf05130244842427b5580687fc3f7abe86b32"
   }
  }
 },
 "nbformat": 4,
 "nbformat_minor": 5
}
