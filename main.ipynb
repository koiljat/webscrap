{
 "cells": [
  {
   "cell_type": "markdown",
   "id": "928ca8be",
   "metadata": {},
   "source": [
    "In this notebook, we will be attempting to webscrap Intern.sg, a job seeking portal for students."
   ]
  },
  {
   "cell_type": "code",
   "execution_count": 267,
   "id": "c647c591",
   "metadata": {},
   "outputs": [],
   "source": [
    "import requests\n",
    "from bs4 import BeautifulSoup\n",
    "import csv \n",
    "import pandas as pd \n",
    "import matplotlib.pyplot as plt "
   ]
  },
  {
   "cell_type": "code",
   "execution_count": 268,
   "id": "63a3c851",
   "metadata": {},
   "outputs": [],
   "source": [
    "url = \"https://www.internsg.com/jobs/1/#isg-top\""
   ]
  },
  {
   "cell_type": "code",
   "execution_count": 269,
   "id": "781d3641",
   "metadata": {},
   "outputs": [
    {
     "data": {
      "text/plain": [
       "<Response [200]>"
      ]
     },
     "execution_count": 269,
     "metadata": {},
     "output_type": "execute_result"
    }
   ],
   "source": [
    "response = requests.get(url)\n",
    "response"
   ]
  },
  {
   "cell_type": "code",
   "execution_count": 294,
   "id": "ae14ecb8",
   "metadata": {},
   "outputs": [],
   "source": [
    "soup = BeautifulSoup(response.content, \"html.parser\")"
   ]
  },
  {
   "cell_type": "markdown",
   "id": "4021c2f2",
   "metadata": {},
   "source": [
    "We find that the information that we want are:\n",
    "Company Name, Role, Commitment Period, Location, Website and Date Posted\n",
    "There are found under the \"ast-col-lg-2\",\"ast-col-lg-1\" and \"ast-col-lg-3\" class tags."
   ]
  },
  {
   "cell_type": "code",
   "execution_count": 271,
   "id": "660bd5e8",
   "metadata": {},
   "outputs": [
    {
     "name": "stdout",
     "output_type": "stream",
     "text": [
      "Empty CSV file created successfully.\n"
     ]
    }
   ],
   "source": [
    "csv_file = \"data.csv\"\n",
    "\n",
    "with open(csv_file, mode=\"w\", newline=\"\") as file:\n",
    "    writer = csv.writer(file)\n",
    "\n",
    "print(\"Empty CSV file created successfully.\")"
   ]
  },
  {
   "cell_type": "markdown",
   "id": "e2f3595c",
   "metadata": {},
   "source": [
    "Initializing an empty CSV to store the data."
   ]
  },
  {
   "cell_type": "code",
   "execution_count": 272,
   "id": "8e138dac",
   "metadata": {},
   "outputs": [],
   "source": [
    "location_post_tag = soup.findAll(\"div\", class_=[\"ast-col-lg-2\",\"ast-col-lg-1\"])\n",
    "location_post_text = [x.text.strip() for x in location_post_tag][2:]\n",
    "\n",
    "company_role_period_div = soup.findAll(\"div\", class_=[\"ast-col-lg-3\"])\n",
    "company_role_period_text = [x.text.strip() for x in company_role_period_div][3:]\n",
    "\n",
    "web_type_div = [div.findAll(\"span\", class_=\"text-monospace\") for div in company_role_period_div]\n",
    "web_type_text = [x[0].text.strip() for x in web_type_div if x != []]"
   ]
  },
  {
   "cell_type": "markdown",
   "id": "59381c49",
   "metadata": {},
   "source": [
    "We will find the respective tags and strip the text to remove any unncessary spacing"
   ]
  },
  {
   "cell_type": "code",
   "execution_count": 273,
   "id": "11f3ad70",
   "metadata": {},
   "outputs": [
    {
     "data": {
      "text/plain": [
       "['stena.com',\n",
       " 'Intern/TS',\n",
       " 'fosunhivecapital.com',\n",
       " 'Intern/TS',\n",
       " 'vipshop.com',\n",
       " 'Intern/TS',\n",
       " 'bshg.com',\n",
       " 'Intern/TS',\n",
       " 'qiorganization.com',\n",
       " 'Intern/TS',\n",
       " 'mercedes-benz.com',\n",
       " 'Intern/TS',\n",
       " 'mercedes-benz.com',\n",
       " 'Intern/TS',\n",
       " 'vipshop.com',\n",
       " 'Intern/TS',\n",
       " 'mercedes-benz.com',\n",
       " 'Intern/TS',\n",
       " 'bovem.co',\n",
       " 'Intern/TS',\n",
       " 'hegen.com',\n",
       " 'Intern/TS',\n",
       " 'Featured',\n",
       " 'Part/Temp',\n",
       " 'space.org.sg',\n",
       " 'Intern/TS',\n",
       " 'wildflowerstudio.sg',\n",
       " 'Intern/TS',\n",
       " 'techfinconsulting.org',\n",
       " 'Intern/TS',\n",
       " 'techfinconsulting.org',\n",
       " 'Intern/TS',\n",
       " 'thefunempire.com',\n",
       " 'Intern/TS',\n",
       " 'Featured',\n",
       " 'Intern/TS',\n",
       " 'thefunempire.com',\n",
       " 'Intern/TS',\n",
       " 'macrayan.com.sg',\n",
       " 'Part/Temp',\n",
       " 'poss.sg',\n",
       " 'Intern/TS',\n",
       " 'castlery.com',\n",
       " 'Intern/TS']"
      ]
     },
     "execution_count": 273,
     "metadata": {},
     "output_type": "execute_result"
    }
   ],
   "source": [
    "web_type_text"
   ]
  },
  {
   "cell_type": "markdown",
   "id": "66eb8645",
   "metadata": {},
   "source": [
    "We can see that current the data are stored in a organized list, with each index representing a specific type of information. Let's split them into their respective list (columns)"
   ]
  },
  {
   "cell_type": "code",
   "execution_count": 274,
   "id": "f6b8addb",
   "metadata": {},
   "outputs": [],
   "source": [
    "location = location_post_text[::2]\n",
    "post_date = location_post_text[1::2]\n",
    "company = company_role_period_text[::3]\n",
    "role = company_role_period_text[1::3]\n",
    "period = company_role_period_text[2::3]\n",
    "web = web_type_text[::2]\n",
    "job_type = web_type_text[1::2]"
   ]
  },
  {
   "cell_type": "markdown",
   "id": "11343ea0",
   "metadata": {},
   "source": [
    "Now that we have all of the respective columns, we will convert them into a dataframe and save into our csv."
   ]
  },
  {
   "cell_type": "code",
   "execution_count": 275,
   "id": "33bc1208",
   "metadata": {},
   "outputs": [],
   "source": [
    "df = pd.DataFrame({'Company Name': company,\n",
    "                       'Role': role,\n",
    "                       'Commitment Period': period,\n",
    "                      'Location': location,\n",
    "                       'Job Type': job_type,\n",
    "                       'Date Posted': post_date,\n",
    "                       'Website': web})\n",
    "\n",
    "df.to_csv(csv_file, index=False, header=True)"
   ]
  },
  {
   "cell_type": "markdown",
   "id": "1ab95db8",
   "metadata": {},
   "source": [
    "We have successfully scraped the first page of the website. Let's repeat the rest for subsequent pages."
   ]
  },
  {
   "cell_type": "code",
   "execution_count": 276,
   "id": "f834218a",
   "metadata": {},
   "outputs": [
    {
     "name": "stdout",
     "output_type": "stream",
     "text": [
      "CSV file saved successfully for page 2.\n",
      "CSV file saved successfully for page 3.\n",
      "CSV file saved successfully for page 4.\n",
      "CSV file saved successfully for page 5.\n",
      "CSV file saved successfully for page 6.\n",
      "CSV file saved successfully for page 7.\n",
      "CSV file saved successfully for page 8.\n",
      "CSV file saved successfully for page 9.\n",
      "CSV file saved successfully for page 10.\n",
      "CSV file saved successfully for page 11.\n",
      "CSV file saved successfully for page 12.\n",
      "CSV file saved successfully for page 13.\n",
      "CSV file saved successfully for page 14.\n",
      "CSV file saved successfully for page 15.\n",
      "CSV file saved successfully for page 16.\n",
      "CSV file saved successfully for page 17.\n",
      "CSV file saved successfully for page 18.\n",
      "CSV file saved successfully for page 19.\n",
      "CSV file saved successfully for page 20.\n",
      "CSV file saved successfully for page 21.\n",
      "CSV file saved successfully for page 22.\n",
      "CSV file saved successfully for page 23.\n",
      "CSV file saved successfully for page 24.\n",
      "CSV file saved successfully for page 25.\n",
      "CSV file saved successfully for page 26.\n",
      "CSV file saved successfully for page 27.\n",
      "CSV file saved successfully for page 28.\n",
      "CSV file saved successfully for page 29.\n",
      "CSV file saved successfully for page 30.\n",
      "CSV file saved successfully for page 31.\n",
      "CSV file saved successfully for page 32.\n",
      "CSV file saved successfully for page 33.\n",
      "CSV file saved successfully for page 34.\n",
      "CSV file saved successfully for page 35.\n",
      "CSV file saved successfully for page 36.\n",
      "CSV file saved successfully for page 37.\n",
      "CSV file saved successfully for page 38.\n",
      "CSV file saved successfully for page 39.\n",
      "CSV file saved successfully for page 40.\n",
      "CSV file saved successfully for page 41.\n",
      "CSV file saved successfully for page 42.\n",
      "CSV file saved successfully for page 43.\n",
      "CSV file saved successfully for page 44.\n",
      "CSV file saved successfully for page 45.\n",
      "CSV file saved successfully for page 46.\n",
      "CSV file saved successfully for page 47.\n",
      "CSV file saved successfully for page 48.\n",
      "CSV file saved successfully for page 49.\n",
      "CSV file saved successfully for page 50.\n",
      "CSV file saved successfully for page 51.\n",
      "CSV file saved successfully for page 52.\n",
      "CSV file saved successfully for page 53.\n",
      "CSV file saved successfully for page 54.\n",
      "CSV file saved successfully for page 55.\n",
      "CSV file saved successfully for page 56.\n",
      "CSV file saved successfully for page 57.\n",
      "CSV file saved successfully for page 58.\n",
      "CSV file saved successfully for page 59.\n",
      "CSV file saved successfully for page 60.\n",
      "CSV file saved successfully for page 61.\n",
      "CSV file saved successfully for page 62.\n",
      "CSV file saved successfully for page 63.\n",
      "CSV file saved successfully for page 64.\n",
      "CSV file saved successfully for page 65.\n",
      "CSV file saved successfully for page 66.\n",
      "CSV file saved successfully for page 67.\n",
      "CSV file saved successfully for page 68.\n",
      "CSV file saved successfully for page 69.\n",
      "CSV file saved successfully for page 70.\n",
      "CSV file saved successfully for page 71.\n",
      "CSV file saved successfully for page 72.\n",
      "CSV file saved successfully for page 73.\n",
      "CSV file saved successfully for page 74.\n",
      "CSV file saved successfully for page 75.\n",
      "CSV file saved successfully for page 76.\n",
      "CSV file saved successfully for page 77.\n",
      "CSV file saved successfully for page 78.\n",
      "CSV file saved successfully for page 79.\n",
      "CSV file saved successfully for page 80.\n",
      "CSV file saved successfully for page 81.\n",
      "CSV file saved successfully for page 82.\n",
      "CSV file saved successfully for page 83.\n",
      "CSV file saved successfully for page 84.\n",
      "CSV file saved successfully for page 85.\n",
      "CSV file saved successfully for page 86.\n",
      "CSV file saved successfully for page 87.\n",
      "CSV file saved successfully for page 88.\n",
      "CSV file saved successfully for page 89.\n",
      "CSV file saved successfully for page 90.\n",
      "CSV file saved successfully for page 91.\n",
      "CSV file saved successfully for page 92.\n",
      "CSV file saved successfully for page 93.\n",
      "CSV file saved successfully for page 94.\n",
      "CSV file saved successfully for page 95.\n",
      "CSV file saved successfully for page 96.\n",
      "CSV file saved successfully for page 97.\n",
      "CSV file saved successfully for page 98.\n",
      "CSV file saved successfully for page 99.\n",
      "CSV file saved successfully for page 100.\n",
      "CSV file saved successfully for page 101.\n",
      "CSV file saved successfully for page 102.\n",
      "CSV file saved successfully for page 103.\n",
      "CSV file saved successfully for page 104.\n",
      "CSV file saved successfully for page 105.\n",
      "CSV file saved successfully for page 106.\n",
      "CSV file saved successfully for page 107.\n",
      "CSV file saved successfully for page 108.\n",
      "CSV file saved successfully for page 109.\n",
      "CSV file saved successfully for page 110.\n",
      "CSV file saved successfully for page 111.\n",
      "CSV file saved successfully for page 112.\n",
      "CSV file saved successfully for page 113.\n",
      "CSV file saved successfully for page 114.\n",
      "CSV file saved successfully for page 115.\n",
      "CSV file saved successfully for page 116.\n",
      "CSV file saved successfully for page 117.\n",
      "CSV file saved successfully for page 118.\n",
      "CSV file saved successfully for page 119.\n",
      "CSV file saved successfully for page 120.\n"
     ]
    }
   ],
   "source": [
    "for page in range(2, 121):\n",
    "    url = f\"https://www.internsg.com/jobs/{page}/#isg-top\"\n",
    "    response = requests.get(url)\n",
    "    \n",
    "    soup = BeautifulSoup(response.content, \"html.parser\")\n",
    "    \n",
    "    ##Obtaining the raw data\n",
    "    location_post_tag = soup.findAll(\"div\", class_=[\"ast-col-lg-2\",\"ast-col-lg-1\"])\n",
    "    location_post_text = [x.text.strip() for x in location_post_tag][2:]\n",
    "    company_role_period_div = soup.findAll(\"div\", class_=[\"ast-col-lg-3\"])\n",
    "    company_role_period_text = [x.text.strip() for x in company_role_period_div][3:]\n",
    "    web_type_div = [div.findAll(\"span\", class_=\"text-monospace\") for div in company_role_period_div]\n",
    "    web_type_text = [x[0].text.strip() for x in web_type_div if x != []]\n",
    "\n",
    "    ##Converting them to their columns.\n",
    "    location = location_post_text[::2]\n",
    "    post_date = location_post_text[1::2]\n",
    "    company = company_role_period_text[::3]\n",
    "    role = company_role_period_text[1::3]\n",
    "    period = company_role_period_text[2::3]\n",
    "    web = web_type_text[::2]\n",
    "    job_type = web_type_text[1::2]\n",
    "\n",
    "    ##Saving data\n",
    "    df = pd.DataFrame({'Company Name': company,\n",
    "                       'Role': role,\n",
    "                       'Commitment Period': period,\n",
    "                      'Location': location,\n",
    "                       'Job Type': job_type,\n",
    "                       'Date Posted': post_date,\n",
    "                       'Website': web})\n",
    "    \n",
    "    df_existing = pd.read_csv(csv_file)\n",
    "    df_combined = pd.concat([df_existing, df])\n",
    "    df_combined.to_csv(csv_file, index=False)\n",
    "\n",
    "    print(f\"CSV file saved successfully for page {page}.\")"
   ]
  },
  {
   "cell_type": "markdown",
   "id": "4b2a88de",
   "metadata": {},
   "source": [
    "Now let us look at our data"
   ]
  },
  {
   "cell_type": "code",
   "execution_count": 277,
   "id": "dd1c6e1f",
   "metadata": {},
   "outputs": [
    {
     "data": {
      "text/html": [
       "<div>\n",
       "<style scoped>\n",
       "    .dataframe tbody tr th:only-of-type {\n",
       "        vertical-align: middle;\n",
       "    }\n",
       "\n",
       "    .dataframe tbody tr th {\n",
       "        vertical-align: top;\n",
       "    }\n",
       "\n",
       "    .dataframe thead th {\n",
       "        text-align: right;\n",
       "    }\n",
       "</style>\n",
       "<table border=\"1\" class=\"dataframe\">\n",
       "  <thead>\n",
       "    <tr style=\"text-align: right;\">\n",
       "      <th></th>\n",
       "      <th>Company Name</th>\n",
       "      <th>Role</th>\n",
       "      <th>Commitment Period</th>\n",
       "      <th>Location</th>\n",
       "      <th>Job Type</th>\n",
       "      <th>Date Posted</th>\n",
       "      <th>Website</th>\n",
       "    </tr>\n",
       "  </thead>\n",
       "  <tbody>\n",
       "    <tr>\n",
       "      <th>0</th>\n",
       "      <td>Stena Line Pte Ltdstena.com</td>\n",
       "      <td>HR Intern (Marine)</td>\n",
       "      <td>From Nov 2023, For At Least 6 MonthsIntern/TS</td>\n",
       "      <td>Jurong East, SG</td>\n",
       "      <td>Intern/TS</td>\n",
       "      <td>27 Jun</td>\n",
       "      <td>stena.com</td>\n",
       "    </tr>\n",
       "    <tr>\n",
       "      <th>1</th>\n",
       "      <td>Fosun Hive Capital Management (Singapore) Pte....</td>\n",
       "      <td>Finance and Administration Intern</td>\n",
       "      <td>Immediate Start, For At Least 6 MonthsIntern/TS</td>\n",
       "      <td>SG</td>\n",
       "      <td>Intern/TS</td>\n",
       "      <td>27 Jun</td>\n",
       "      <td>fosunhivecapital.com</td>\n",
       "    </tr>\n",
       "    <tr>\n",
       "      <th>2</th>\n",
       "      <td>Vipshop Singapore Pte Ltd.vipshop.com</td>\n",
       "      <td>Data Analyst Intern</td>\n",
       "      <td>Immediate Start, For At Least 3 MonthsIntern/TS</td>\n",
       "      <td>SG</td>\n",
       "      <td>Intern/TS</td>\n",
       "      <td>27 Jun</td>\n",
       "      <td>vipshop.com</td>\n",
       "    </tr>\n",
       "    <tr>\n",
       "      <th>3</th>\n",
       "      <td>BSH Home Appliances Pte Ltdbshg.com</td>\n",
       "      <td>Service Marketing Intern</td>\n",
       "      <td>From Aug 2023, For At Least 5 MonthsIntern/TS</td>\n",
       "      <td>SG</td>\n",
       "      <td>Intern/TS</td>\n",
       "      <td>27 Jun</td>\n",
       "      <td>bshg.com</td>\n",
       "    </tr>\n",
       "    <tr>\n",
       "      <th>4</th>\n",
       "      <td>BHAqiorganization.com</td>\n",
       "      <td>Financial Services Summer Intern</td>\n",
       "      <td>Flexible Start, For At Least 2 MonthsIntern/TS</td>\n",
       "      <td>Queenstown, SG</td>\n",
       "      <td>Intern/TS</td>\n",
       "      <td>27 Jun</td>\n",
       "      <td>qiorganization.com</td>\n",
       "    </tr>\n",
       "    <tr>\n",
       "      <th>...</th>\n",
       "      <td>...</td>\n",
       "      <td>...</td>\n",
       "      <td>...</td>\n",
       "      <td>...</td>\n",
       "      <td>...</td>\n",
       "      <td>...</td>\n",
       "      <td>...</td>\n",
       "    </tr>\n",
       "    <tr>\n",
       "      <th>2635</th>\n",
       "      <td>Vision Alliance Grouppruadviser.com.sg</td>\n",
       "      <td>Sales &amp; Marketing Associate</td>\n",
       "      <td>Immediate Start, For At Least 6 MonthsFull/Perm</td>\n",
       "      <td>Newton, SG</td>\n",
       "      <td>Full/Perm</td>\n",
       "      <td>Closed</td>\n",
       "      <td>pruadviser.com.sg</td>\n",
       "    </tr>\n",
       "    <tr>\n",
       "      <th>2636</th>\n",
       "      <td>Inspire Brands Asiainspirebrandsasia.com</td>\n",
       "      <td>Content Creation Intern</td>\n",
       "      <td>Immediate Start, Flexible DurationFree/ProjPar...</td>\n",
       "      <td>Novena, SG</td>\n",
       "      <td>Free/Proj</td>\n",
       "      <td>Closed</td>\n",
       "      <td>inspirebrandsasia.com</td>\n",
       "    </tr>\n",
       "    <tr>\n",
       "      <th>2637</th>\n",
       "      <td>Count On Me Pte Ltdcountonme.biz</td>\n",
       "      <td>Accounts Executive - Intern</td>\n",
       "      <td>Immediate Start, For At Least 6 MonthsFull/Per...</td>\n",
       "      <td>SG</td>\n",
       "      <td>Full/Perm</td>\n",
       "      <td>Closed</td>\n",
       "      <td>countonme.biz</td>\n",
       "    </tr>\n",
       "    <tr>\n",
       "      <th>2638</th>\n",
       "      <td>Elite Asiaeliteasia.co</td>\n",
       "      <td>Englishchinese / Japanese / Korean Simultaneou...</td>\n",
       "      <td>From 08 Jun 2023 - 08 Jun 2023Free/Proj</td>\n",
       "      <td>SG</td>\n",
       "      <td>Free/Proj</td>\n",
       "      <td>Closed</td>\n",
       "      <td>eliteasia.co</td>\n",
       "    </tr>\n",
       "    <tr>\n",
       "      <th>2639</th>\n",
       "      <td>Welocalizewelocalize.com</td>\n",
       "      <td>Ads Quality Rater - Japanese (Singapore)</td>\n",
       "      <td>Flexible Start, Flexible DurationFree/ProjPart...</td>\n",
       "      <td>SGWork from Home</td>\n",
       "      <td>Free/Proj</td>\n",
       "      <td>Closed</td>\n",
       "      <td>welocalize.com</td>\n",
       "    </tr>\n",
       "  </tbody>\n",
       "</table>\n",
       "<p>2640 rows × 7 columns</p>\n",
       "</div>"
      ],
      "text/plain": [
       "                                           Company Name  \\\n",
       "0                           Stena Line Pte Ltdstena.com   \n",
       "1     Fosun Hive Capital Management (Singapore) Pte....   \n",
       "2                 Vipshop Singapore Pte Ltd.vipshop.com   \n",
       "3                   BSH Home Appliances Pte Ltdbshg.com   \n",
       "4                                 BHAqiorganization.com   \n",
       "...                                                 ...   \n",
       "2635             Vision Alliance Grouppruadviser.com.sg   \n",
       "2636           Inspire Brands Asiainspirebrandsasia.com   \n",
       "2637                   Count On Me Pte Ltdcountonme.biz   \n",
       "2638                             Elite Asiaeliteasia.co   \n",
       "2639                           Welocalizewelocalize.com   \n",
       "\n",
       "                                                   Role  \\\n",
       "0                                    HR Intern (Marine)   \n",
       "1                     Finance and Administration Intern   \n",
       "2                                   Data Analyst Intern   \n",
       "3                              Service Marketing Intern   \n",
       "4                      Financial Services Summer Intern   \n",
       "...                                                 ...   \n",
       "2635                        Sales & Marketing Associate   \n",
       "2636                            Content Creation Intern   \n",
       "2637                        Accounts Executive - Intern   \n",
       "2638  Englishchinese / Japanese / Korean Simultaneou...   \n",
       "2639           Ads Quality Rater - Japanese (Singapore)   \n",
       "\n",
       "                                      Commitment Period          Location  \\\n",
       "0         From Nov 2023, For At Least 6 MonthsIntern/TS   Jurong East, SG   \n",
       "1       Immediate Start, For At Least 6 MonthsIntern/TS                SG   \n",
       "2       Immediate Start, For At Least 3 MonthsIntern/TS                SG   \n",
       "3         From Aug 2023, For At Least 5 MonthsIntern/TS                SG   \n",
       "4        Flexible Start, For At Least 2 MonthsIntern/TS    Queenstown, SG   \n",
       "...                                                 ...               ...   \n",
       "2635    Immediate Start, For At Least 6 MonthsFull/Perm        Newton, SG   \n",
       "2636  Immediate Start, Flexible DurationFree/ProjPar...        Novena, SG   \n",
       "2637  Immediate Start, For At Least 6 MonthsFull/Per...                SG   \n",
       "2638            From 08 Jun 2023 - 08 Jun 2023Free/Proj                SG   \n",
       "2639  Flexible Start, Flexible DurationFree/ProjPart...  SGWork from Home   \n",
       "\n",
       "       Job Type Date Posted                Website  \n",
       "0     Intern/TS      27 Jun              stena.com  \n",
       "1     Intern/TS      27 Jun   fosunhivecapital.com  \n",
       "2     Intern/TS      27 Jun            vipshop.com  \n",
       "3     Intern/TS      27 Jun               bshg.com  \n",
       "4     Intern/TS      27 Jun     qiorganization.com  \n",
       "...         ...         ...                    ...  \n",
       "2635  Full/Perm      Closed      pruadviser.com.sg  \n",
       "2636  Free/Proj      Closed  inspirebrandsasia.com  \n",
       "2637  Full/Perm      Closed          countonme.biz  \n",
       "2638  Free/Proj      Closed           eliteasia.co  \n",
       "2639  Free/Proj      Closed         welocalize.com  \n",
       "\n",
       "[2640 rows x 7 columns]"
      ]
     },
     "execution_count": 277,
     "metadata": {},
     "output_type": "execute_result"
    }
   ],
   "source": [
    "intern_df = pd.read_csv('data.csv')\n",
    "intern_df"
   ]
  },
  {
   "cell_type": "markdown",
   "id": "2cc07e3c",
   "metadata": {},
   "source": [
    "We see that some of the columns are not very well formatted. I will now clean up the data by removing the `website` from the `company name` and `job type` from `commitment period` Additionally, let's add an additional column to indicate WFH availability."
   ]
  },
  {
   "cell_type": "code",
   "execution_count": 278,
   "id": "5918e9da",
   "metadata": {},
   "outputs": [],
   "source": [
    "intern_df['Company Name'] = intern_df.apply(lambda row: row['Company Name'].split(row['Website'])[0], axis=1)\n",
    "intern_df['Company Name'] = intern_df.apply(lambda row: row['Company Name'].split(' Pte Ltd')[0], axis=1)    \n",
    "intern_df['Commitment Period'] = intern_df.apply(lambda row: row['Commitment Period'].split(row['Job Type'])[0], axis=1)\n",
    "intern_df['Work From Home'] = intern_df.apply(lambda row: True if (row['Location'].find('Work from Home') != -1) else False, axis=1)\n",
    "intern_df['Location'] = intern_df.apply(lambda row: row['Location'].split('Work from Home')[0], axis=1)"
   ]
  },
  {
   "cell_type": "code",
   "execution_count": 279,
   "id": "870feec7",
   "metadata": {},
   "outputs": [],
   "source": [
    "intern_df['Country'] = intern_df.apply(lambda row: row['Location'].split(',')[-1], axis=1)\n",
    "intern_df['Location'] = intern_df.apply(lambda row: row['Location'].split(',')[0] if len(row['Location'].split(',')) > 1 else None, axis=1)"
   ]
  },
  {
   "cell_type": "code",
   "execution_count": 280,
   "id": "2f3d95f9",
   "metadata": {},
   "outputs": [
    {
     "data": {
      "text/html": [
       "<div>\n",
       "<style scoped>\n",
       "    .dataframe tbody tr th:only-of-type {\n",
       "        vertical-align: middle;\n",
       "    }\n",
       "\n",
       "    .dataframe tbody tr th {\n",
       "        vertical-align: top;\n",
       "    }\n",
       "\n",
       "    .dataframe thead th {\n",
       "        text-align: right;\n",
       "    }\n",
       "</style>\n",
       "<table border=\"1\" class=\"dataframe\">\n",
       "  <thead>\n",
       "    <tr style=\"text-align: right;\">\n",
       "      <th></th>\n",
       "      <th>Company Name</th>\n",
       "      <th>Role</th>\n",
       "      <th>Commitment Period</th>\n",
       "      <th>Location</th>\n",
       "      <th>Job Type</th>\n",
       "      <th>Date Posted</th>\n",
       "      <th>Website</th>\n",
       "      <th>Work From Home</th>\n",
       "      <th>Country</th>\n",
       "    </tr>\n",
       "  </thead>\n",
       "  <tbody>\n",
       "    <tr>\n",
       "      <th>0</th>\n",
       "      <td>Stena Line</td>\n",
       "      <td>HR Intern (Marine)</td>\n",
       "      <td>From Nov 2023, For At Least 6 Months</td>\n",
       "      <td>Jurong East</td>\n",
       "      <td>Intern/TS</td>\n",
       "      <td>27 Jun</td>\n",
       "      <td>stena.com</td>\n",
       "      <td>False</td>\n",
       "      <td>SG</td>\n",
       "    </tr>\n",
       "    <tr>\n",
       "      <th>1</th>\n",
       "      <td>Fosun Hive Capital Management (Singapore) Pte....</td>\n",
       "      <td>Finance and Administration Intern</td>\n",
       "      <td>Immediate Start, For At Least 6 Months</td>\n",
       "      <td>None</td>\n",
       "      <td>Intern/TS</td>\n",
       "      <td>27 Jun</td>\n",
       "      <td>fosunhivecapital.com</td>\n",
       "      <td>False</td>\n",
       "      <td>SG</td>\n",
       "    </tr>\n",
       "    <tr>\n",
       "      <th>2</th>\n",
       "      <td>Vipshop Singapore</td>\n",
       "      <td>Data Analyst Intern</td>\n",
       "      <td>Immediate Start, For At Least 3 Months</td>\n",
       "      <td>None</td>\n",
       "      <td>Intern/TS</td>\n",
       "      <td>27 Jun</td>\n",
       "      <td>vipshop.com</td>\n",
       "      <td>False</td>\n",
       "      <td>SG</td>\n",
       "    </tr>\n",
       "    <tr>\n",
       "      <th>3</th>\n",
       "      <td>BSH Home Appliances</td>\n",
       "      <td>Service Marketing Intern</td>\n",
       "      <td>From Aug 2023, For At Least 5 Months</td>\n",
       "      <td>None</td>\n",
       "      <td>Intern/TS</td>\n",
       "      <td>27 Jun</td>\n",
       "      <td>bshg.com</td>\n",
       "      <td>False</td>\n",
       "      <td>SG</td>\n",
       "    </tr>\n",
       "    <tr>\n",
       "      <th>4</th>\n",
       "      <td>BHA</td>\n",
       "      <td>Financial Services Summer Intern</td>\n",
       "      <td>Flexible Start, For At Least 2 Months</td>\n",
       "      <td>Queenstown</td>\n",
       "      <td>Intern/TS</td>\n",
       "      <td>27 Jun</td>\n",
       "      <td>qiorganization.com</td>\n",
       "      <td>False</td>\n",
       "      <td>SG</td>\n",
       "    </tr>\n",
       "    <tr>\n",
       "      <th>...</th>\n",
       "      <td>...</td>\n",
       "      <td>...</td>\n",
       "      <td>...</td>\n",
       "      <td>...</td>\n",
       "      <td>...</td>\n",
       "      <td>...</td>\n",
       "      <td>...</td>\n",
       "      <td>...</td>\n",
       "      <td>...</td>\n",
       "    </tr>\n",
       "    <tr>\n",
       "      <th>2635</th>\n",
       "      <td>Vision Alliance Group</td>\n",
       "      <td>Sales &amp; Marketing Associate</td>\n",
       "      <td>Immediate Start, For At Least 6 Months</td>\n",
       "      <td>Newton</td>\n",
       "      <td>Full/Perm</td>\n",
       "      <td>Closed</td>\n",
       "      <td>pruadviser.com.sg</td>\n",
       "      <td>False</td>\n",
       "      <td>SG</td>\n",
       "    </tr>\n",
       "    <tr>\n",
       "      <th>2636</th>\n",
       "      <td>Inspire Brands Asia</td>\n",
       "      <td>Content Creation Intern</td>\n",
       "      <td>Immediate Start, Flexible Duration</td>\n",
       "      <td>Novena</td>\n",
       "      <td>Free/Proj</td>\n",
       "      <td>Closed</td>\n",
       "      <td>inspirebrandsasia.com</td>\n",
       "      <td>False</td>\n",
       "      <td>SG</td>\n",
       "    </tr>\n",
       "    <tr>\n",
       "      <th>2637</th>\n",
       "      <td>Count On Me</td>\n",
       "      <td>Accounts Executive - Intern</td>\n",
       "      <td>Immediate Start, For At Least 6 Months</td>\n",
       "      <td>None</td>\n",
       "      <td>Full/Perm</td>\n",
       "      <td>Closed</td>\n",
       "      <td>countonme.biz</td>\n",
       "      <td>False</td>\n",
       "      <td>SG</td>\n",
       "    </tr>\n",
       "    <tr>\n",
       "      <th>2638</th>\n",
       "      <td>Elite Asia</td>\n",
       "      <td>Englishchinese / Japanese / Korean Simultaneou...</td>\n",
       "      <td>From 08 Jun 2023 - 08 Jun 2023</td>\n",
       "      <td>None</td>\n",
       "      <td>Free/Proj</td>\n",
       "      <td>Closed</td>\n",
       "      <td>eliteasia.co</td>\n",
       "      <td>False</td>\n",
       "      <td>SG</td>\n",
       "    </tr>\n",
       "    <tr>\n",
       "      <th>2639</th>\n",
       "      <td>Welocalize</td>\n",
       "      <td>Ads Quality Rater - Japanese (Singapore)</td>\n",
       "      <td>Flexible Start, Flexible Duration</td>\n",
       "      <td>None</td>\n",
       "      <td>Free/Proj</td>\n",
       "      <td>Closed</td>\n",
       "      <td>welocalize.com</td>\n",
       "      <td>True</td>\n",
       "      <td>SG</td>\n",
       "    </tr>\n",
       "  </tbody>\n",
       "</table>\n",
       "<p>2640 rows × 9 columns</p>\n",
       "</div>"
      ],
      "text/plain": [
       "                                           Company Name  \\\n",
       "0                                            Stena Line   \n",
       "1     Fosun Hive Capital Management (Singapore) Pte....   \n",
       "2                                     Vipshop Singapore   \n",
       "3                                   BSH Home Appliances   \n",
       "4                                                   BHA   \n",
       "...                                                 ...   \n",
       "2635                              Vision Alliance Group   \n",
       "2636                                Inspire Brands Asia   \n",
       "2637                                        Count On Me   \n",
       "2638                                         Elite Asia   \n",
       "2639                                         Welocalize   \n",
       "\n",
       "                                                   Role  \\\n",
       "0                                    HR Intern (Marine)   \n",
       "1                     Finance and Administration Intern   \n",
       "2                                   Data Analyst Intern   \n",
       "3                              Service Marketing Intern   \n",
       "4                      Financial Services Summer Intern   \n",
       "...                                                 ...   \n",
       "2635                        Sales & Marketing Associate   \n",
       "2636                            Content Creation Intern   \n",
       "2637                        Accounts Executive - Intern   \n",
       "2638  Englishchinese / Japanese / Korean Simultaneou...   \n",
       "2639           Ads Quality Rater - Japanese (Singapore)   \n",
       "\n",
       "                           Commitment Period     Location   Job Type  \\\n",
       "0       From Nov 2023, For At Least 6 Months  Jurong East  Intern/TS   \n",
       "1     Immediate Start, For At Least 6 Months         None  Intern/TS   \n",
       "2     Immediate Start, For At Least 3 Months         None  Intern/TS   \n",
       "3       From Aug 2023, For At Least 5 Months         None  Intern/TS   \n",
       "4      Flexible Start, For At Least 2 Months   Queenstown  Intern/TS   \n",
       "...                                      ...          ...        ...   \n",
       "2635  Immediate Start, For At Least 6 Months       Newton  Full/Perm   \n",
       "2636      Immediate Start, Flexible Duration       Novena  Free/Proj   \n",
       "2637  Immediate Start, For At Least 6 Months         None  Full/Perm   \n",
       "2638          From 08 Jun 2023 - 08 Jun 2023         None  Free/Proj   \n",
       "2639       Flexible Start, Flexible Duration         None  Free/Proj   \n",
       "\n",
       "     Date Posted                Website  Work From Home Country  \n",
       "0         27 Jun              stena.com           False      SG  \n",
       "1         27 Jun   fosunhivecapital.com           False      SG  \n",
       "2         27 Jun            vipshop.com           False      SG  \n",
       "3         27 Jun               bshg.com           False      SG  \n",
       "4         27 Jun     qiorganization.com           False      SG  \n",
       "...          ...                    ...             ...     ...  \n",
       "2635      Closed      pruadviser.com.sg           False      SG  \n",
       "2636      Closed  inspirebrandsasia.com           False      SG  \n",
       "2637      Closed          countonme.biz           False      SG  \n",
       "2638      Closed           eliteasia.co           False      SG  \n",
       "2639      Closed         welocalize.com            True      SG  \n",
       "\n",
       "[2640 rows x 9 columns]"
      ]
     },
     "execution_count": 280,
     "metadata": {},
     "output_type": "execute_result"
    }
   ],
   "source": [
    "intern_df"
   ]
  },
  {
   "cell_type": "code",
   "execution_count": 281,
   "id": "ea44e1f2",
   "metadata": {},
   "outputs": [
    {
     "name": "stdout",
     "output_type": "stream",
     "text": [
      "<class 'pandas.core.frame.DataFrame'>\n",
      "RangeIndex: 2640 entries, 0 to 2639\n",
      "Data columns (total 9 columns):\n",
      " #   Column             Non-Null Count  Dtype \n",
      "---  ------             --------------  ----- \n",
      " 0   Company Name       2640 non-null   object\n",
      " 1   Role               2640 non-null   object\n",
      " 2   Commitment Period  2640 non-null   object\n",
      " 3   Location           1981 non-null   object\n",
      " 4   Job Type           2640 non-null   object\n",
      " 5   Date Posted        2640 non-null   object\n",
      " 6   Website            2640 non-null   object\n",
      " 7   Work From Home     2640 non-null   bool  \n",
      " 8   Country            2640 non-null   object\n",
      "dtypes: bool(1), object(8)\n",
      "memory usage: 167.7+ KB\n"
     ]
    }
   ],
   "source": [
    "intern_df.info()"
   ]
  },
  {
   "cell_type": "markdown",
   "id": "d3f0fb74",
   "metadata": {},
   "source": [
    "Once we have format our data, we can now begin to explore our data"
   ]
  },
  {
   "cell_type": "code",
   "execution_count": 282,
   "id": "d36be6ac",
   "metadata": {},
   "outputs": [
    {
     "data": {
      "text/plain": [
       "Company Name\n",
       "Snaphunt                         147\n",
       "Orfeostory                        89\n",
       "Advisors Alliance Group           84\n",
       "ed&c                              74\n",
       "Thye Hua Kwan Moral Charities     32\n",
       "Akribis Systems                   24\n",
       "Robert Bosch (SEA)                23\n",
       "The Fun Empire                    20\n",
       "Hypotenuse AI                     20\n",
       "REC Group                         16\n",
       "Name: Company Name, dtype: int64"
      ]
     },
     "execution_count": 282,
     "metadata": {},
     "output_type": "execute_result"
    }
   ],
   "source": [
    "company_counts = intern_df.groupby('Company Name')['Company Name'].count()\n",
    "top_10_counts = company_counts.sort_values(ascending=False).head(10)\n",
    "top_10_counts"
   ]
  },
  {
   "cell_type": "code",
   "execution_count": 283,
   "id": "5ff3454c",
   "metadata": {},
   "outputs": [
    {
     "data": {
      "image/png": "[encoded data removed]",
      "text/plain": [
       "<Figure size 640x480 with 1 Axes>"
      ]
     },
     "metadata": {},
     "output_type": "display_data"
    },
    {
     "data": {
      "text/plain": [
       "<Figure size 1200x800 with 0 Axes>"
      ]
     },
     "metadata": {},
     "output_type": "display_data"
    }
   ],
   "source": [
    "plt.bar(top_10_counts.index, top_10_counts.values, color='darkblue')\n",
    "plt.xlabel('Company Name')\n",
    "plt.ylabel('Count')\n",
    "plt.title('Top 10 Companies by Count')\n",
    "plt.xticks(rotation=90)\n",
    "plt.xticks(fontsize=8)\n",
    "plt.figure(figsize=(12, 8))  # Adjust width and height as needed\n",
    "plt.show()"
   ]
  },
  {
   "cell_type": "markdown",
   "id": "329ffed0",
   "metadata": {},
   "source": [
    "Unsurprisingly, the most number of job posting made was by SnapHunt, a recruitment agency. Now, let's look at what are the popular roles that companies are looking for."
   ]
  },
  {
   "cell_type": "code",
   "execution_count": 284,
   "id": "dd459b3b",
   "metadata": {},
   "outputs": [
    {
     "data": {
      "text/plain": [
       "Role\n",
       "Marketing Intern                                                 88\n",
       "⭐ Assistant Project Manager ⭐                                    87\n",
       "⭐ Financial Services Intern ⭐                                    81\n",
       "⭐ Events & Account Servicing Executive Intern (Advertising) ⭐    72\n",
       "Business Development Intern                                      41\n",
       "Digital Marketing Intern                                         39\n",
       "Finance Intern                                                   25\n",
       "Graphic Design Intern                                            17\n",
       "Human Resource Intern                                            16\n",
       "Social Media Intern                                              16\n",
       "Name: Role, dtype: int64"
      ]
     },
     "execution_count": 284,
     "metadata": {},
     "output_type": "execute_result"
    }
   ],
   "source": [
    "role_counts = intern_df.groupby('Role')['Role'].count()\n",
    "top_10_role_counts = role_counts.sort_values(ascending=False).head(10)\n",
    "top_10_role_counts"
   ]
  },
  {
   "cell_type": "markdown",
   "id": "eee16db4",
   "metadata": {},
   "source": [
    "In this example, we see that there are special characters used by the job poster, such as emoji. Let's remove these to make the results look cleaner."
   ]
  },
  {
   "cell_type": "code",
   "execution_count": 285,
   "id": "589519f7",
   "metadata": {},
   "outputs": [
    {
     "data": {
      "text/html": [
       "<div>\n",
       "<style scoped>\n",
       "    .dataframe tbody tr th:only-of-type {\n",
       "        vertical-align: middle;\n",
       "    }\n",
       "\n",
       "    .dataframe tbody tr th {\n",
       "        vertical-align: top;\n",
       "    }\n",
       "\n",
       "    .dataframe thead th {\n",
       "        text-align: right;\n",
       "    }\n",
       "</style>\n",
       "<table border=\"1\" class=\"dataframe\">\n",
       "  <thead>\n",
       "    <tr style=\"text-align: right;\">\n",
       "      <th></th>\n",
       "      <th>Company Name</th>\n",
       "      <th>Role</th>\n",
       "      <th>Commitment Period</th>\n",
       "      <th>Location</th>\n",
       "      <th>Job Type</th>\n",
       "      <th>Date Posted</th>\n",
       "      <th>Website</th>\n",
       "      <th>Work From Home</th>\n",
       "      <th>Country</th>\n",
       "    </tr>\n",
       "  </thead>\n",
       "  <tbody>\n",
       "    <tr>\n",
       "      <th>0</th>\n",
       "      <td>Stena Line</td>\n",
       "      <td>HR Intern Marine</td>\n",
       "      <td>From Nov 2023, For At Least 6 Months</td>\n",
       "      <td>Jurong East</td>\n",
       "      <td>Intern/TS</td>\n",
       "      <td>27 Jun</td>\n",
       "      <td>stena.com</td>\n",
       "      <td>False</td>\n",
       "      <td>SG</td>\n",
       "    </tr>\n",
       "    <tr>\n",
       "      <th>1</th>\n",
       "      <td>Fosun Hive Capital Management (Singapore) Pte....</td>\n",
       "      <td>Finance and Administration Intern</td>\n",
       "      <td>Immediate Start, For At Least 6 Months</td>\n",
       "      <td>None</td>\n",
       "      <td>Intern/TS</td>\n",
       "      <td>27 Jun</td>\n",
       "      <td>fosunhivecapital.com</td>\n",
       "      <td>False</td>\n",
       "      <td>SG</td>\n",
       "    </tr>\n",
       "    <tr>\n",
       "      <th>2</th>\n",
       "      <td>Vipshop Singapore</td>\n",
       "      <td>Data Analyst Intern</td>\n",
       "      <td>Immediate Start, For At Least 3 Months</td>\n",
       "      <td>None</td>\n",
       "      <td>Intern/TS</td>\n",
       "      <td>27 Jun</td>\n",
       "      <td>vipshop.com</td>\n",
       "      <td>False</td>\n",
       "      <td>SG</td>\n",
       "    </tr>\n",
       "    <tr>\n",
       "      <th>3</th>\n",
       "      <td>BSH Home Appliances</td>\n",
       "      <td>Service Marketing Intern</td>\n",
       "      <td>From Aug 2023, For At Least 5 Months</td>\n",
       "      <td>None</td>\n",
       "      <td>Intern/TS</td>\n",
       "      <td>27 Jun</td>\n",
       "      <td>bshg.com</td>\n",
       "      <td>False</td>\n",
       "      <td>SG</td>\n",
       "    </tr>\n",
       "    <tr>\n",
       "      <th>4</th>\n",
       "      <td>BHA</td>\n",
       "      <td>Financial Services Summer Intern</td>\n",
       "      <td>Flexible Start, For At Least 2 Months</td>\n",
       "      <td>Queenstown</td>\n",
       "      <td>Intern/TS</td>\n",
       "      <td>27 Jun</td>\n",
       "      <td>qiorganization.com</td>\n",
       "      <td>False</td>\n",
       "      <td>SG</td>\n",
       "    </tr>\n",
       "    <tr>\n",
       "      <th>...</th>\n",
       "      <td>...</td>\n",
       "      <td>...</td>\n",
       "      <td>...</td>\n",
       "      <td>...</td>\n",
       "      <td>...</td>\n",
       "      <td>...</td>\n",
       "      <td>...</td>\n",
       "      <td>...</td>\n",
       "      <td>...</td>\n",
       "    </tr>\n",
       "    <tr>\n",
       "      <th>2635</th>\n",
       "      <td>Vision Alliance Group</td>\n",
       "      <td>Sales  Marketing Associate</td>\n",
       "      <td>Immediate Start, For At Least 6 Months</td>\n",
       "      <td>Newton</td>\n",
       "      <td>Full/Perm</td>\n",
       "      <td>Closed</td>\n",
       "      <td>pruadviser.com.sg</td>\n",
       "      <td>False</td>\n",
       "      <td>SG</td>\n",
       "    </tr>\n",
       "    <tr>\n",
       "      <th>2636</th>\n",
       "      <td>Inspire Brands Asia</td>\n",
       "      <td>Content Creation Intern</td>\n",
       "      <td>Immediate Start, Flexible Duration</td>\n",
       "      <td>Novena</td>\n",
       "      <td>Free/Proj</td>\n",
       "      <td>Closed</td>\n",
       "      <td>inspirebrandsasia.com</td>\n",
       "      <td>False</td>\n",
       "      <td>SG</td>\n",
       "    </tr>\n",
       "    <tr>\n",
       "      <th>2637</th>\n",
       "      <td>Count On Me</td>\n",
       "      <td>Accounts Executive  Intern</td>\n",
       "      <td>Immediate Start, For At Least 6 Months</td>\n",
       "      <td>None</td>\n",
       "      <td>Full/Perm</td>\n",
       "      <td>Closed</td>\n",
       "      <td>countonme.biz</td>\n",
       "      <td>False</td>\n",
       "      <td>SG</td>\n",
       "    </tr>\n",
       "    <tr>\n",
       "      <th>2638</th>\n",
       "      <td>Elite Asia</td>\n",
       "      <td>Englishchinese  Japanese  Korean Simultaneous ...</td>\n",
       "      <td>From 08 Jun 2023 - 08 Jun 2023</td>\n",
       "      <td>None</td>\n",
       "      <td>Free/Proj</td>\n",
       "      <td>Closed</td>\n",
       "      <td>eliteasia.co</td>\n",
       "      <td>False</td>\n",
       "      <td>SG</td>\n",
       "    </tr>\n",
       "    <tr>\n",
       "      <th>2639</th>\n",
       "      <td>Welocalize</td>\n",
       "      <td>Ads Quality Rater  Japanese Singapore</td>\n",
       "      <td>Flexible Start, Flexible Duration</td>\n",
       "      <td>None</td>\n",
       "      <td>Free/Proj</td>\n",
       "      <td>Closed</td>\n",
       "      <td>welocalize.com</td>\n",
       "      <td>True</td>\n",
       "      <td>SG</td>\n",
       "    </tr>\n",
       "  </tbody>\n",
       "</table>\n",
       "<p>2640 rows × 9 columns</p>\n",
       "</div>"
      ],
      "text/plain": [
       "                                           Company Name  \\\n",
       "0                                            Stena Line   \n",
       "1     Fosun Hive Capital Management (Singapore) Pte....   \n",
       "2                                     Vipshop Singapore   \n",
       "3                                   BSH Home Appliances   \n",
       "4                                                   BHA   \n",
       "...                                                 ...   \n",
       "2635                              Vision Alliance Group   \n",
       "2636                                Inspire Brands Asia   \n",
       "2637                                        Count On Me   \n",
       "2638                                         Elite Asia   \n",
       "2639                                         Welocalize   \n",
       "\n",
       "                                                   Role  \\\n",
       "0                                      HR Intern Marine   \n",
       "1                     Finance and Administration Intern   \n",
       "2                                   Data Analyst Intern   \n",
       "3                              Service Marketing Intern   \n",
       "4                      Financial Services Summer Intern   \n",
       "...                                                 ...   \n",
       "2635                         Sales  Marketing Associate   \n",
       "2636                            Content Creation Intern   \n",
       "2637                         Accounts Executive  Intern   \n",
       "2638  Englishchinese  Japanese  Korean Simultaneous ...   \n",
       "2639              Ads Quality Rater  Japanese Singapore   \n",
       "\n",
       "                           Commitment Period     Location   Job Type  \\\n",
       "0       From Nov 2023, For At Least 6 Months  Jurong East  Intern/TS   \n",
       "1     Immediate Start, For At Least 6 Months         None  Intern/TS   \n",
       "2     Immediate Start, For At Least 3 Months         None  Intern/TS   \n",
       "3       From Aug 2023, For At Least 5 Months         None  Intern/TS   \n",
       "4      Flexible Start, For At Least 2 Months   Queenstown  Intern/TS   \n",
       "...                                      ...          ...        ...   \n",
       "2635  Immediate Start, For At Least 6 Months       Newton  Full/Perm   \n",
       "2636      Immediate Start, Flexible Duration       Novena  Free/Proj   \n",
       "2637  Immediate Start, For At Least 6 Months         None  Full/Perm   \n",
       "2638          From 08 Jun 2023 - 08 Jun 2023         None  Free/Proj   \n",
       "2639       Flexible Start, Flexible Duration         None  Free/Proj   \n",
       "\n",
       "     Date Posted                Website  Work From Home Country  \n",
       "0         27 Jun              stena.com           False      SG  \n",
       "1         27 Jun   fosunhivecapital.com           False      SG  \n",
       "2         27 Jun            vipshop.com           False      SG  \n",
       "3         27 Jun               bshg.com           False      SG  \n",
       "4         27 Jun     qiorganization.com           False      SG  \n",
       "...          ...                    ...             ...     ...  \n",
       "2635      Closed      pruadviser.com.sg           False      SG  \n",
       "2636      Closed  inspirebrandsasia.com           False      SG  \n",
       "2637      Closed          countonme.biz           False      SG  \n",
       "2638      Closed           eliteasia.co           False      SG  \n",
       "2639      Closed         welocalize.com            True      SG  \n",
       "\n",
       "[2640 rows x 9 columns]"
      ]
     },
     "execution_count": 285,
     "metadata": {},
     "output_type": "execute_result"
    }
   ],
   "source": [
    "import re\n",
    "\n",
    "intern_df['Role'] = intern_df.apply(lambda row: re.sub(r'[^\\w\\s]', '', row[1]).strip(), axis=1)\n",
    "intern_df"
   ]
  },
  {
   "cell_type": "code",
   "execution_count": 286,
   "id": "58fffb30",
   "metadata": {},
   "outputs": [
    {
     "data": {
      "text/plain": [
       "Role\n",
       "Assistant Project Manager                                 90\n",
       "Marketing Intern                                          88\n",
       "Financial Services Intern                                 88\n",
       "Events  Account Servicing Executive Intern Advertising    73\n",
       "Business Development Intern                               42\n",
       "Digital Marketing Intern                                  39\n",
       "Finance Intern                                            25\n",
       "Graphic Design Intern                                     17\n",
       "Human Resource Intern                                     16\n",
       "Social Media Intern                                       16\n",
       "Name: Role, dtype: int64"
      ]
     },
     "execution_count": 286,
     "metadata": {},
     "output_type": "execute_result"
    }
   ],
   "source": [
    "role_counts = intern_df.groupby('Role')['Role'].count()\n",
    "top_10_role_counts = role_counts.sort_values(ascending=False).head(10)\n",
    "top_10_role_counts"
   ]
  },
  {
   "cell_type": "code",
   "execution_count": 287,
   "id": "c5b79cc3",
   "metadata": {},
   "outputs": [
    {
     "data": {
      "image/png": "[encoded data removed]",
      "text/plain": [
       "<Figure size 640x480 with 1 Axes>"
      ]
     },
     "metadata": {},
     "output_type": "display_data"
    },
    {
     "data": {
      "text/plain": [
       "<Figure size 1200x800 with 0 Axes>"
      ]
     },
     "metadata": {},
     "output_type": "display_data"
    }
   ],
   "source": [
    "plt.bar(top_10_role_counts.index, top_10_role_counts.values, color='darkred')\n",
    "plt.xlabel('Role')\n",
    "plt.ylabel('Count')\n",
    "plt.title('Top 10 Role by Count')\n",
    "plt.xticks(rotation=90)\n",
    "plt.xticks(fontsize=8)\n",
    "plt.figure(figsize=(12, 8))  # Adjust width and height as needed\n",
    "plt.show()"
   ]
  },
  {
   "cell_type": "markdown",
   "id": "13f9d59b",
   "metadata": {},
   "source": [
    "It seems that roles such as Marketing Intern, Financial Service Intern, Assistant Project Manager and Events Account Servicing Exectutive Intern Advertising are very popular. However, this may be due to the promoted feature of intern.sg, which promotes certain jobs at a fee."
   ]
  },
  {
   "cell_type": "code",
   "execution_count": 288,
   "id": "607eb9ad",
   "metadata": {},
   "outputs": [
    {
     "data": {
      "image/png": "[encoded data removed]",
      "text/plain": [
       "<Figure size 640x480 with 1 Axes>"
      ]
     },
     "metadata": {},
     "output_type": "display_data"
    }
   ],
   "source": [
    "wfh_count = intern_df['Work From Home'].mean()\n",
    "wio_count = 1 - wfh_count\n",
    "sizes = [wfh_count, wio_count]\n",
    "labels = ['Work From Home', 'Work In Office']\n",
    "plt.pie(sizes, labels=labels, autopct='%1.1f%%', colors=['lightgreen','lightpink'])\n",
    "plt.axis('equal')\n",
    "plt.title('WFH/WIO Distribution')\n",
    "plt.show()\n"
   ]
  },
  {
   "cell_type": "code",
   "execution_count": 292,
   "id": "0117f2ca",
   "metadata": {},
   "outputs": [
    {
     "name": "stderr",
     "output_type": "stream",
     "text": [
      "/var/folders/8d/5rvptlnd5j9d3zl2fchct6v00000gn/T/ipykernel_65769/3946368878.py:2: SettingWithCopyWarning: \n",
      "A value is trying to be set on a copy of a slice from a DataFrame.\n",
      "Try using .loc[row_indexer,col_indexer] = value instead\n",
      "\n",
      "See the caveats in the documentation: https://pandas.pydata.org/pandas-docs/stable/user_guide/indexing.html#returning-a-view-versus-a-copy\n",
      "  filtered_df['Date Posted'] = pd.to_datetime(filtered_df['Date Posted'] + ' ' + str(2023), format='%d %b %Y')\n"
     ]
    }
   ],
   "source": [
    "filtered_df = intern_df[intern_df['Date Posted'] != 'Closed']\n",
    "filtered_df['Date Posted'] = pd.to_datetime(filtered_df['Date Posted'] + ' ' + str(2023), format='%d %b %Y')\n",
    "posting_over_time = filtered_df.groupby(\"Date Posted\")['Date Posted'].count()"
   ]
  },
  {
   "cell_type": "code",
   "execution_count": 293,
   "id": "645895af",
   "metadata": {},
   "outputs": [
    {
     "data": {
      "image/png": "[encoded data removed]",
      "text/plain": [
       "<Figure size 640x480 with 1 Axes>"
      ]
     },
     "metadata": {},
     "output_type": "display_data"
    }
   ],
   "source": [
    "plt.plot(posting_over_time.index, posting_over_time.values, color='grey')\n",
    "plt.xlabel('Date Posted')\n",
    "plt.ylabel('Count')\n",
    "plt.title('Count of Job Postings Over Time')\n",
    "plt.xticks(rotation=90)\n",
    "plt.xticks(fontsize=5)\n",
    "plt.show()\n"
   ]
  },
  {
   "cell_type": "markdown",
   "id": "7a95a36c",
   "metadata": {},
   "source": [
    "The data look like there are some seasonality to it, with some extreme anomalies. I suspect that the job posting experience a sharp drop when it is a weekend and rises when the work week begins. Let's check if I am correct."
   ]
  },
  {
   "cell_type": "code",
   "execution_count": 291,
   "id": "bbfd0e61",
   "metadata": {},
   "outputs": [
    {
     "data": {
      "image/png": "[encoded data removed]",
      "text/plain": [
       "<Figure size 640x480 with 1 Axes>"
      ]
     },
     "metadata": {},
     "output_type": "display_data"
    }
   ],
   "source": [
    "from datetime import datetime\n",
    "\n",
    "days_of_week = []\n",
    "for date_string in posting_over_time.index:\n",
    "    day_of_week = date_string.strftime('%A')\n",
    "    days_of_week.append(day_of_week)\n",
    "days_of_week\n",
    "date_day = list(zip(posting_over_time.index, days_of_week, posting_over_time.values))\n",
    "\n",
    "plt.plot(posting_over_time.index, posting_over_time.values, color='grey')\n",
    "\n",
    "for date, day, count in date_day:\n",
    "    if day == 'Sunday':\n",
    "        plt.annotate('Saturday',xy=(datetime.strptime(str(date.date()), \"%Y-%m-%d\"),count), \n",
    "            arrowprops=dict(arrowstyle='->',connectionstyle='arc3,rad=-.2'),\n",
    "            fontsize=8)\n",
    "\n",
    "plt.xlabel('Date Posted')\n",
    "plt.ylabel('Count')\n",
    "plt.title('Count of Job Postings Over Time')\n",
    "plt.xticks(rotation=90)\n",
    "plt.xticks(fontsize=5)\n",
    "plt.show()"
   ]
  },
  {
   "cell_type": "markdown",
   "id": "e789efff",
   "metadata": {},
   "source": [
    "\n",
    "As can be seen with the annotation, job posting experience a dip on Saturday."
   ]
  }
 ],
 "metadata": {
  "kernelspec": {
   "display_name": "Python 3.9.13 ('base')",
   "language": "python",
   "name": "python3"
  },
  "language_info": {
   "codemirror_mode": {
    "name": "ipython",
    "version": 3
   },
   "file_extension": ".py",
   "mimetype": "text/x-python",
   "name": "python",
   "nbconvert_exporter": "python",
   "pygments_lexer": "ipython3",
   "version": "3.9.13"
  },
  "vscode": {
   "interpreter": {
    "hash": "e8cc7a8fa4b0e731e540f01b69abf05130244842427b5580687fc3f7abe86b32"
   }
  }
 },
 "nbformat": 4,
 "nbformat_minor": 5
}
